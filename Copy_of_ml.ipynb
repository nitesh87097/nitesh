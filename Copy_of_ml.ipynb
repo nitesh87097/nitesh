{
  "nbformat": 4,
  "nbformat_minor": 0,
  "metadata": {
    "colab": {
      "provenance": []
    },
    "kernelspec": {
      "name": "python3",
      "display_name": "Python 3"
    },
    "language_info": {
      "name": "python"
    }
  },
  "cells": [
    {
      "cell_type": "code",
      "source": [
        "import sys\n",
        "print(sys.version)"
      ],
      "metadata": {
        "colab": {
          "base_uri": "https://localhost:8080/"
        },
        "id": "dWEepdn-Byg3",
        "outputId": "d751f71f-5a16-4cca-fa75-7b8817b1abac"
      },
      "execution_count": null,
      "outputs": [
        {
          "output_type": "stream",
          "name": "stdout",
          "text": [
            "3.11.13 (main, Jun  4 2025, 08:57:29) [GCC 11.4.0]\n"
          ]
        }
      ]
    },
    {
      "cell_type": "code",
      "source": [
        "pip install nlp"
      ],
      "metadata": {
        "colab": {
          "base_uri": "https://localhost:8080/"
        },
        "id": "pTz0XVOIB1Vq",
        "outputId": "68adf69a-6792-4161-948c-7a7ac23e316c"
      },
      "execution_count": null,
      "outputs": [
        {
          "output_type": "stream",
          "name": "stdout",
          "text": [
            "Requirement already satisfied: nlp in /usr/local/lib/python3.11/dist-packages (0.4.0)\n",
            "Requirement already satisfied: numpy in /usr/local/lib/python3.11/dist-packages (from nlp) (2.0.2)\n",
            "Requirement already satisfied: pyarrow>=0.16.0 in /usr/local/lib/python3.11/dist-packages (from nlp) (18.1.0)\n",
            "Requirement already satisfied: dill in /usr/local/lib/python3.11/dist-packages (from nlp) (0.3.8)\n",
            "Requirement already satisfied: pandas in /usr/local/lib/python3.11/dist-packages (from nlp) (2.2.2)\n",
            "Requirement already satisfied: requests>=2.19.0 in /usr/local/lib/python3.11/dist-packages (from nlp) (2.32.3)\n",
            "Requirement already satisfied: tqdm>=4.27 in /usr/local/lib/python3.11/dist-packages (from nlp) (4.67.1)\n",
            "Requirement already satisfied: filelock in /usr/local/lib/python3.11/dist-packages (from nlp) (3.18.0)\n",
            "Requirement already satisfied: xxhash in /usr/local/lib/python3.11/dist-packages (from nlp) (3.5.0)\n",
            "Requirement already satisfied: charset-normalizer<4,>=2 in /usr/local/lib/python3.11/dist-packages (from requests>=2.19.0->nlp) (3.4.2)\n",
            "Requirement already satisfied: idna<4,>=2.5 in /usr/local/lib/python3.11/dist-packages (from requests>=2.19.0->nlp) (3.10)\n",
            "Requirement already satisfied: urllib3<3,>=1.21.1 in /usr/local/lib/python3.11/dist-packages (from requests>=2.19.0->nlp) (2.5.0)\n",
            "Requirement already satisfied: certifi>=2017.4.17 in /usr/local/lib/python3.11/dist-packages (from requests>=2.19.0->nlp) (2025.7.14)\n",
            "Requirement already satisfied: python-dateutil>=2.8.2 in /usr/local/lib/python3.11/dist-packages (from pandas->nlp) (2.9.0.post0)\n",
            "Requirement already satisfied: pytz>=2020.1 in /usr/local/lib/python3.11/dist-packages (from pandas->nlp) (2025.2)\n",
            "Requirement already satisfied: tzdata>=2022.7 in /usr/local/lib/python3.11/dist-packages (from pandas->nlp) (2025.2)\n",
            "Requirement already satisfied: six>=1.5 in /usr/local/lib/python3.11/dist-packages (from python-dateutil>=2.8.2->pandas->nlp) (1.17.0)\n"
          ]
        }
      ]
    },
    {
      "cell_type": "code",
      "source": [
        "pip install nltk"
      ],
      "metadata": {
        "id": "tEL-A0oHB1bs"
      },
      "execution_count": null,
      "outputs": []
    },
    {
      "cell_type": "code",
      "source": [
        "import nltk"
      ],
      "metadata": {
        "id": "HOd-jlDXB1gV"
      },
      "execution_count": null,
      "outputs": []
    },
    {
      "cell_type": "code",
      "source": [
        "input = \"Barack Obama went as a prime minister of USA in the year of 2015 . PM MODI is the prime minister of INDIA.\"\n",
        "print(input)"
      ],
      "metadata": {
        "colab": {
          "base_uri": "https://localhost:8080/"
        },
        "id": "6jcHS7w4B1rP",
        "outputId": "d76d172b-a590-491b-b028-536e679719cb"
      },
      "execution_count": null,
      "outputs": [
        {
          "metadata": {
            "tags": null
          },
          "name": "stdout",
          "output_type": "stream",
          "text": [
            "Barack Obama went as a prime minister of USA in the year of 2015 . PM MODI is the prime minister of INDIA.\n"
          ]
        }
      ]
    },
    {
      "cell_type": "code",
      "source": [
        "import nltk\n",
        "nltk.download('punkt_tab')"
      ],
      "metadata": {
        "colab": {
          "base_uri": "https://localhost:8080/"
        },
        "id": "jU8h4M6NDlsi",
        "outputId": "4b2afb86-b2ba-4aaf-802a-f7394cdd1928"
      },
      "execution_count": null,
      "outputs": [
        {
          "metadata": {
            "tags": null
          },
          "name": "stderr",
          "output_type": "stream",
          "text": [
            "[nltk_data] Downloading package punkt_tab to /root/nltk_data...\n",
            "[nltk_data]   Package punkt_tab is already up-to-date!\n"
          ]
        },
        {
          "data": {
            "text/plain": [
              "True"
            ]
          },
          "execution_count": 36,
          "metadata": {},
          "output_type": "execute_result"
        }
      ]
    },
    {
      "cell_type": "code",
      "source": [
        "#(2)Tokenization\n",
        "import nltk\n",
        "from nltk import word_tokenize, sent_tokenize\n",
        "\n",
        "word_tokens = word_tokenize(input)\n",
        "print(\"WORD TOKENS = \", word_tokens)\n",
        "print(len(word_tokens))\n",
        "sent_tokens = sent_tokenize(input)\n",
        "print(\"SENT TOKENS = \", sent_tokens)\n",
        "print(len(sent_tokens))"
      ],
      "metadata": {
        "colab": {
          "base_uri": "https://localhost:8080/"
        },
        "id": "EpuU56E1B1vq",
        "outputId": "e0cc5de6-31bc-4045-ead0-fd6f647e24d9"
      },
      "execution_count": null,
      "outputs": [
        {
          "metadata": {
            "tags": null
          },
          "name": "stdout",
          "output_type": "stream",
          "text": [
            "WORD TOKENS =  ['Barack', 'Obama', 'went', 'as', 'a', 'prime', 'minister', 'of', 'USA', 'in', 'the', 'year', 'of', '2015', '.', 'PM', 'MODI', 'is', 'the', 'prime', 'minister', 'of', 'INDIA', '.']\n",
            "24\n",
            "SENT TOKENS =  ['Barack Obama went as a prime minister of USA in the year of 2015 .', 'PM MODI is the prime minister of INDIA.']\n",
            "2\n"
          ]
        }
      ]
    },
    {
      "cell_type": "code",
      "source": [
        "import nltk\n",
        "nltk.download('stopwords')"
      ],
      "metadata": {
        "colab": {
          "base_uri": "https://localhost:8080/"
        },
        "id": "eKZ2gu5MD_n3",
        "outputId": "f8e9073b-5396-4f96-cab3-3ce229fd8157"
      },
      "execution_count": null,
      "outputs": [
        {
          "metadata": {
            "tags": null
          },
          "name": "stderr",
          "output_type": "stream",
          "text": [
            "[nltk_data] Downloading package stopwords to /root/nltk_data...\n",
            "[nltk_data]   Package stopwords is already up-to-date!\n"
          ]
        },
        {
          "data": {
            "text/plain": [
              "True"
            ]
          },
          "execution_count": 38,
          "metadata": {},
          "output_type": "execute_result"
        }
      ]
    },
    {
      "cell_type": "code",
      "source": [
        "#(3)stopwords Removal\n",
        "from nltk.corpus import stopwords\n",
        "#print(stopwords.fileids())\n",
        "stopwords = set(stopwords.words('english'))\n",
        "#print(\"\\n\", stopwords)\n",
        "\n",
        "tokens_stopwords = []\n",
        "for token in word_tokens:\n",
        "    if token not in stopwords:\n",
        "        tokens_stopwords.append(token)\n",
        "print(' '.join(tokens_stopwords))"
      ],
      "metadata": {
        "colab": {
          "base_uri": "https://localhost:8080/"
        },
        "id": "sCKvks-PB13b",
        "outputId": "d92edea3-c2df-4e61-e5a9-fa501e328cb2"
      },
      "execution_count": null,
      "outputs": [
        {
          "metadata": {
            "tags": null
          },
          "name": "stdout",
          "output_type": "stream",
          "text": [
            "Barack Obama went prime minister USA year 2015 . PM MODI prime minister INDIA .\n"
          ]
        }
      ]
    },
    {
      "cell_type": "code",
      "source": [
        "#Stemmer\n",
        "stemming = []\n",
        "from nltk import PorterStemmer\n",
        "for word in tokens_stopwords:\n",
        "    stemming.append(PorterStemmer().stem(word))\n",
        "print(stemming)"
      ],
      "metadata": {
        "colab": {
          "base_uri": "https://localhost:8080/"
        },
        "id": "P5fzjf3LB19Y",
        "outputId": "feea52cc-07e4-4121-bc36-01caaf464185"
      },
      "execution_count": null,
      "outputs": [
        {
          "metadata": {
            "tags": null
          },
          "name": "stdout",
          "output_type": "stream",
          "text": [
            "['barack', 'obama', 'went', 'prime', 'minist', 'usa', 'year', '2015', '.', 'pm', 'modi', 'prime', 'minist', 'india', '.']\n"
          ]
        }
      ]
    },
    {
      "cell_type": "code",
      "source": [
        "import nltk\n",
        "nltk.download('wordnet')"
      ],
      "metadata": {
        "colab": {
          "base_uri": "https://localhost:8080/"
        },
        "id": "3NfFRQYDEPkx",
        "outputId": "b2c8cd28-1bea-4c6f-9a05-961d27b1e92c"
      },
      "execution_count": null,
      "outputs": [
        {
          "metadata": {
            "tags": null
          },
          "name": "stderr",
          "output_type": "stream",
          "text": [
            "[nltk_data] Downloading package wordnet to /root/nltk_data...\n",
            "[nltk_data]   Package wordnet is already up-to-date!\n"
          ]
        },
        {
          "data": {
            "text/plain": [
              "True"
            ]
          },
          "execution_count": 41,
          "metadata": {},
          "output_type": "execute_result"
        }
      ]
    },
    {
      "cell_type": "code",
      "source": [
        "#Lemmatizer\n",
        "from nltk import WordNetLemmatizer\n",
        "lma = []\n",
        "for word in tokens_stopwords:\n",
        "    lma.append(WordNetLemmatizer().lemmatize(word))\n",
        "print(lma)"
      ],
      "metadata": {
        "colab": {
          "base_uri": "https://localhost:8080/"
        },
        "id": "ZDYCgoqLB2CH",
        "outputId": "5c526fad-3e7f-4352-c27d-6e73308edfb2"
      },
      "execution_count": null,
      "outputs": [
        {
          "metadata": {
            "tags": null
          },
          "name": "stdout",
          "output_type": "stream",
          "text": [
            "['Barack', 'Obama', 'went', 'prime', 'minister', 'USA', 'year', '2015', '.', 'PM', 'MODI', 'prime', 'minister', 'INDIA', '.']\n"
          ]
        }
      ]
    },
    {
      "cell_type": "code",
      "source": [
        "import nltk\n",
        "nltk.download('averaged_perceptron_tagger_eng')"
      ],
      "metadata": {
        "colab": {
          "base_uri": "https://localhost:8080/"
        },
        "id": "spRX7ZpMEdhV",
        "outputId": "cb654a20-bb03-4d3e-e0f3-511c56f65907"
      },
      "execution_count": null,
      "outputs": [
        {
          "metadata": {
            "tags": null
          },
          "name": "stderr",
          "output_type": "stream",
          "text": [
            "[nltk_data] Downloading package averaged_perceptron_tagger_eng to\n",
            "[nltk_data]     /root/nltk_data...\n",
            "[nltk_data]   Package averaged_perceptron_tagger_eng is already up-to-\n",
            "[nltk_data]       date!\n"
          ]
        },
        {
          "data": {
            "text/plain": [
              "True"
            ]
          },
          "execution_count": 43,
          "metadata": {},
          "output_type": "execute_result"
        }
      ]
    },
    {
      "cell_type": "code",
      "source": [
        "#POS Tags\n",
        "from nltk import pos_tag\n",
        "print(pos_tag(word_tokens))"
      ],
      "metadata": {
        "colab": {
          "base_uri": "https://localhost:8080/"
        },
        "id": "i4zm0R9PB2GG",
        "outputId": "2c38d9f7-b467-4323-a502-041a5e625c2a"
      },
      "execution_count": null,
      "outputs": [
        {
          "metadata": {
            "tags": null
          },
          "name": "stdout",
          "output_type": "stream",
          "text": [
            "[('Barack', 'NNP'), ('Obama', 'NNP'), ('went', 'VBD'), ('as', 'IN'), ('a', 'DT'), ('prime', 'JJ'), ('minister', 'NN'), ('of', 'IN'), ('USA', 'NNP'), ('in', 'IN'), ('the', 'DT'), ('year', 'NN'), ('of', 'IN'), ('2015', 'CD'), ('.', '.'), ('PM', 'NNP'), ('MODI', 'NNP'), ('is', 'VBZ'), ('the', 'DT'), ('prime', 'JJ'), ('minister', 'NN'), ('of', 'IN'), ('INDIA', 'NNP'), ('.', '.')]\n"
          ]
        }
      ]
    },
    {
      "cell_type": "code",
      "source": [
        "import nltk\n",
        "nltk.download('maxent_ne_chunker_tab')"
      ],
      "metadata": {
        "colab": {
          "base_uri": "https://localhost:8080/"
        },
        "id": "8n_pX3nAEspE",
        "outputId": "268afbd7-8a98-46a7-d8e5-307dd49de8ef"
      },
      "execution_count": null,
      "outputs": [
        {
          "metadata": {
            "tags": null
          },
          "name": "stderr",
          "output_type": "stream",
          "text": [
            "[nltk_data] Downloading package maxent_ne_chunker_tab to\n",
            "[nltk_data]     /root/nltk_data...\n",
            "[nltk_data]   Package maxent_ne_chunker_tab is already up-to-date!\n"
          ]
        },
        {
          "data": {
            "text/plain": [
              "True"
            ]
          },
          "execution_count": 45,
          "metadata": {},
          "output_type": "execute_result"
        }
      ]
    },
    {
      "cell_type": "code",
      "source": [
        "import nltk\n",
        "nltk.download('words')"
      ],
      "metadata": {
        "id": "UCs1kyGoEzSQ",
        "colab": {
          "base_uri": "https://localhost:8080/"
        },
        "outputId": "7ea036cf-4a47-4695-b02f-2d317e425fef"
      },
      "execution_count": null,
      "outputs": [
        {
          "metadata": {
            "tags": null
          },
          "name": "stderr",
          "output_type": "stream",
          "text": [
            "[nltk_data] Downloading package words to /root/nltk_data...\n",
            "[nltk_data]   Package words is already up-to-date!\n"
          ]
        },
        {
          "data": {
            "text/plain": [
              "True"
            ]
          },
          "execution_count": 46,
          "metadata": {},
          "output_type": "execute_result"
        }
      ]
    },
    {
      "cell_type": "code",
      "source": [
        "import nltk\n",
        "from nltk import word_tokenize, pos_tag, ne_chunk, sent_tokenize\n",
        "\n",
        "input = \"Barack Obama went as a prime minister of USA in the year of 2015 . PM MODI is the prime minister of INDIA.\"\n",
        "ner = ne_chunk(pos_tag(word_tokenize(input)))\n",
        "# print(ner)\n",
        "\n",
        "from nltk.tree import Tree\n",
        "named_entity = []\n",
        "for subtree in ner:\n",
        "    if isinstance(subtree, Tree):\n",
        "        entity = \"\".join([token for token, pos in subtree.leaves()])\n",
        "        named_entity.append(entity)\n",
        "print(named_entity)"
      ],
      "metadata": {
        "colab": {
          "base_uri": "https://localhost:8080/"
        },
        "id": "aS9uXmHuEiwq",
        "outputId": "0a8c8d71-ecc0-46f9-f668-e01a2b080a9b"
      },
      "execution_count": null,
      "outputs": [
        {
          "metadata": {
            "tags": null
          },
          "name": "stdout",
          "output_type": "stream",
          "text": [
            "['Barack', 'Obama', 'USA', 'INDIA']\n"
          ]
        }
      ]
    },
    {
      "cell_type": "code",
      "source": [
        "# TF-IDF\n",
        "from nltk import word_tokenize\n",
        "from nltk.corpus import stopwords\n",
        "from nltk.stem import PorterStemmer\n",
        "#pip install scikit-learn\n",
        "from sklearn.feature_extraction.text import TfidfVectorizer\n",
        "\n",
        "stopwords = set(stopwords.words('english'))\n",
        "ps = PorterStemmer()\n",
        "vector = TfidfVectorizer()\n",
        "\n",
        "documents= [ \"apple boy cat\", \"apple cat dog\", \"dog egg fan\" ]\n",
        "\n",
        "preprocessed = []\n",
        "for doc in documents:\n",
        "    tokenization = word_tokenize(doc)\n",
        "    stop = [ps.stem(word) for word in tokenization if word not in stopwords]\n",
        "    preprocessed.append(\" \".join(stop))\n",
        "print(preprocessed)\n",
        "word_score = vector.fit_transform(preprocessed)\n",
        "print(word_score)"
      ],
      "metadata": {
        "id": "virF5wMDEi5d",
        "colab": {
          "base_uri": "https://localhost:8080/"
        },
        "outputId": "2de2af7e-2dc3-48b7-d648-46d30a0cab6e"
      },
      "execution_count": null,
      "outputs": [
        {
          "metadata": {
            "tags": null
          },
          "name": "stdout",
          "output_type": "stream",
          "text": [
            "['appl boy cat', 'appl cat dog', 'dog egg fan']\n",
            "<Compressed Sparse Row sparse matrix of dtype 'float64'\n",
            "\twith 9 stored elements and shape (3, 6)>\n",
            "  Coords\tValues\n",
            "  (0, 0)\t0.5178561161676974\n",
            "  (0, 1)\t0.680918560398684\n",
            "  (0, 2)\t0.5178561161676974\n",
            "  (1, 0)\t0.5773502691896257\n",
            "  (1, 2)\t0.5773502691896257\n",
            "  (1, 3)\t0.5773502691896257\n",
            "  (2, 3)\t0.4736296010332684\n",
            "  (2, 4)\t0.6227660078332259\n",
            "  (2, 5)\t0.6227660078332259\n"
          ]
        }
      ]
    },
    {
      "cell_type": "code",
      "source": [
        "\n",
        "\n",
        "import matplotlib.pyplot as plt\n",
        "\n",
        "x = [1,2,3,4,5,6,7,8,9]\n",
        "y = [4,7,1,2,4,5,7,8,5]\n",
        "\n",
        "def slr(x):\n",
        "    return slope * x + intercept\n",
        "from scipy import stats\n",
        "slope, intercept, r, p, std_err = stats.linregress(x,y)\n",
        "\n",
        "model = list(map(slr, x))\n",
        "plt.plot(x, model)\n",
        "\n",
        "plt.scatter(x,y)\n",
        "plt.show()"
      ],
      "metadata": {
        "colab": {
          "base_uri": "https://localhost:8080/",
          "height": 430
        },
        "id": "IBCbssX2lDjL",
        "outputId": "21f8e149-01ad-4acd-b82e-166993d6d42b"
      },
      "execution_count": null,
      "outputs": [
        {
          "data": {
            "image/png": "[encoded data removed]",
            "text/plain": [
              "<Figure size 640x480 with 1 Axes>"
            ]
          },
          "metadata": {},
          "output_type": "display_data"
        }
      ]
    },
    {
      "cell_type": "code",
      "source": [
        "\n",
        "\n",
        "import pandas as pd\n",
        "iris = pd.read_csv(\"IRIS.csv\")\n",
        "print(iris)\n",
        "import numpy as np\n",
        "\n",
        "x = iris[['SepalLengthCm', 'SepalWidthCm']]\n",
        "y = iris.PetalLengthCm\n",
        "\n",
        "from sklearn.model_selection import train_test_split\n",
        "x_train, x_test, y_train, y_test = train_test_split(x,y,test_size=0.2)\n",
        "\n",
        "from sklearn.linear_model import LinearRegression\n",
        "LR = LinearRegression()\n",
        "training = LR.fit(x_train, y_train)\n",
        "y_pred = LR.predict(x_test)\n",
        "print(y_pred)"
      ],
      "metadata": {
        "colab": {
          "base_uri": "https://localhost:8080/"
        },
        "id": "8mPrrsMrlNsk",
        "outputId": "f2c96cb9-78a2-46df-cedf-25ae7385a71a"
      },
      "execution_count": null,
      "outputs": [
        {
          "output_type": "stream",
          "name": "stdout",
          "text": [
            "      Id  SepalLengthCm  SepalWidthCm  PetalLengthCm  PetalWidthCm  \\\n",
            "0      1            5.1           3.5            1.4           0.2   \n",
            "1      2            4.9           3.0            1.4           0.2   \n",
            "2      3            4.7           3.2            1.3           0.2   \n",
            "3      4            4.6           3.1            1.5           0.2   \n",
            "4      5            5.0           3.6            1.4           0.2   \n",
            "..   ...            ...           ...            ...           ...   \n",
            "145  146            6.7           3.0            5.2           2.3   \n",
            "146  147            6.3           2.5            5.0           1.9   \n",
            "147  148            6.5           3.0            5.2           2.0   \n",
            "148  149            6.2           3.4            5.4           2.3   \n",
            "149  150            5.9           3.0            5.1           1.8   \n",
            "\n",
            "            Species  \n",
            "0       Iris-setosa  \n",
            "1       Iris-setosa  \n",
            "2       Iris-setosa  \n",
            "3       Iris-setosa  \n",
            "4       Iris-setosa  \n",
            "..              ...  \n",
            "145  Iris-virginica  \n",
            "146  Iris-virginica  \n",
            "147  Iris-virginica  \n",
            "148  Iris-virginica  \n",
            "149  Iris-virginica  \n",
            "\n",
            "[150 rows x 6 columns]\n",
            "[6.48478287 4.74565035 4.9195636  4.22363497 2.09326654 4.13709178\n",
            " 0.87559816 4.87615419 6.87601878 3.83267468 3.1807067  4.00686355\n",
            " 5.31079951 2.13667595 3.26780114 1.9627627  5.91935808 2.4405418\n",
            " 5.39761833 4.09340675 1.70175501 2.0061721  1.87566826 3.83267468\n",
            " 5.22370507 1.83225885 3.57139137 4.91928798 3.65931267 5.2673901 ]\n"
          ]
        }
      ]
    },
    {
      "cell_type": "code",
      "source": [
        "#PROGRAM 7: SLR & MLR with Performance Metrics:\n",
        "\n",
        "import pandas as pd\n",
        "iris = pd.read_csv(\"IRIS.csv\")\n",
        "print(iris)\n",
        "\n",
        "import numpy as np\n",
        "\n",
        "x = iris[['SepalLengthCm', 'SepalWidthCm']]\n",
        "y = iris.PetalLengthCm\n",
        "\n",
        "from sklearn.model_selection import train_test_split\n",
        "x_train, x_test, y_train, y_test = train_test_split(x,y,test_size=0.2)\n",
        "\n",
        "from sklearn.linear_model import LinearRegression\n",
        "LR = LinearRegression()\n",
        "\n",
        "training = LR.fit(x_train, y_train)\n",
        "y_pred = LR.predict(x_test)\n",
        "print(y_pred, \"\\n\")\n",
        "\n",
        "#pip install numpy\n",
        "import numpy as np\n",
        "from sklearn import metrics\n",
        "\n",
        "MAE = metrics.mean_absolute_error(y_test, y_pred)\n",
        "print(\"Mean Absoute Error: \", MAE)\n",
        "MSE = metrics.mean_squared_error(y_test, y_pred)\n",
        "print(\"Mean Squeared Error: \", MSE)\n",
        "RMSE = np.sqrt(metrics.mean_squared_error(y_test, y_pred))\n",
        "print(\"RMSE: \", RMSE)\n",
        "\n",
        "\n",
        "import numpy as np\n",
        "\n",
        "x = iris[['SepalLengthCm']]\n",
        "y = iris.PetalLengthCm\n",
        "\n",
        "from sklearn.model_selection import train_test_split\n",
        "x_train, x_test, y_train, y_test = train_test_split(x,y,test_size=0.2)\n",
        "\n",
        "from sklearn.linear_model import LinearRegression\n",
        "LR = LinearRegression()\n",
        "\n",
        "training = LR.fit(x_train, y_train)\n",
        "y_pred = LR.predict(x_test)\n",
        "print(y_pred, \"\\n\")\n",
        "\n",
        "#pip install numpy\n",
        "import numpy as np\n",
        "from sklearn import metrics\n",
        "\n",
        "MAE = metrics.mean_absolute_error(y_test, y_pred)\n",
        "print(\"Mean Absoute Error: \", MAE)\n",
        "MSE = metrics.mean_squared_error(y_test, y_pred)\n",
        "print(\"Mean Squeared Error: \", MSE)\n",
        "RMSE = np.sqrt(metrics.mean_squared_error(y_test, y_pred))\n",
        "print(\"RMSE: \", RMSE)"
      ],
      "metadata": {
        "id": "4r9O8VBqpPFm",
        "colab": {
          "base_uri": "https://localhost:8080/"
        },
        "outputId": "fa53312b-39fa-4710-e1ff-a25eb223c3f8"
      },
      "execution_count": null,
      "outputs": [
        {
          "output_type": "stream",
          "name": "stdout",
          "text": [
            "      Id  SepalLengthCm  SepalWidthCm  PetalLengthCm  PetalWidthCm  \\\n",
            "0      1            5.1           3.5            1.4           0.2   \n",
            "1      2            4.9           3.0            1.4           0.2   \n",
            "2      3            4.7           3.2            1.3           0.2   \n",
            "3      4            4.6           3.1            1.5           0.2   \n",
            "4      5            5.0           3.6            1.4           0.2   \n",
            "..   ...            ...           ...            ...           ...   \n",
            "145  146            6.7           3.0            5.2           2.3   \n",
            "146  147            6.3           2.5            5.0           1.9   \n",
            "147  148            6.5           3.0            5.2           2.0   \n",
            "148  149            6.2           3.4            5.4           2.3   \n",
            "149  150            5.9           3.0            5.1           1.8   \n",
            "\n",
            "            Species  \n",
            "0       Iris-setosa  \n",
            "1       Iris-setosa  \n",
            "2       Iris-setosa  \n",
            "3       Iris-setosa  \n",
            "4       Iris-setosa  \n",
            "..              ...  \n",
            "145  Iris-virginica  \n",
            "146  Iris-virginica  \n",
            "147  Iris-virginica  \n",
            "148  Iris-virginica  \n",
            "149  Iris-virginica  \n",
            "\n",
            "[150 rows x 6 columns]\n",
            "[4.17036517 4.0508208  4.15827472 3.04546174 5.06827032 5.04745207\n",
            " 5.32481465 1.85810355 5.64717639 5.41145031 6.06490159 4.12536601\n",
            " 3.53773214 5.22945119 5.55181293 2.00719397 2.04010267 2.14755658\n",
            " 6.1394468  1.33292444 7.23144153 2.58610003 0.81983578 6.94198849\n",
            " 4.81172599 1.51492356 2.53237308 5.28317815 1.60155922 2.77682695] \n",
            "\n",
            "Mean Absoute Error:  0.5690118801244275\n",
            "Mean Squeared Error:  0.5396428444730802\n",
            "RMSE:  0.7346038690839303\n",
            "[2.6286489  5.33519346 5.33519346 5.33519346 2.98952151 2.44821259\n",
            " 4.25257563 1.90690368 1.00472216 1.90690368 6.05693867 3.53083042\n",
            " 4.61344824 5.69606607 4.97432085 3.71126672 2.26777629 3.35039411\n",
            " 1.90690368 1.54603107 2.6286489  2.44821259 3.53083042 2.26777629\n",
            " 3.71126672 2.08733999 4.97432085 4.61344824 2.44821259 3.71126672] \n",
            "\n",
            "Mean Absoute Error:  0.6491072230775897\n",
            "Mean Squeared Error:  0.6391440730868159\n",
            "RMSE:  0.7994648666994791\n"
          ]
        }
      ]
    }
  ]
}